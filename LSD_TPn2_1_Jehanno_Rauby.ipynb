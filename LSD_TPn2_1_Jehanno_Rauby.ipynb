{
 "cells": [
  {
   "cell_type": "code",
   "execution_count": 1,
   "metadata": {},
   "outputs": [],
   "source": [
    "import pandas as pd \n",
    "import numpy as np \n",
    "import matplotlib.pyplot as plt"
   ]
  },
  {
   "cell_type": "code",
   "execution_count": 2,
   "metadata": {},
   "outputs": [],
   "source": [
    "df = pd.read_csv('signal.txt',header=None)"
   ]
  },
  {
   "cell_type": "code",
   "execution_count": 3,
   "metadata": {},
   "outputs": [
    {
     "name": "stdout",
     "output_type": "stream",
     "text": [
      "[[2.0440461e-15]\n",
      " [9.5346375e-15]\n",
      " [4.2731280e-14]\n",
      " [1.8399916e-13]\n",
      " [7.6122670e-13]\n",
      " [3.0258013e-12]\n",
      " [1.1555667e-11]\n",
      " [4.2401169e-11]\n",
      " [1.4948199e-10]\n",
      " [5.0632357e-10]\n",
      " [1.6477664e-09]\n",
      " [5.1521838e-09]\n",
      " [1.5478015e-08]\n",
      " [4.4675295e-08]\n",
      " [1.2389329e-07]\n",
      " [3.3010826e-07]\n",
      " [8.4507101e-07]\n",
      " [2.0785393e-06]\n",
      " [4.9119223e-06]\n",
      " [1.1152519e-05]\n",
      " [2.4328910e-05]\n",
      " [5.0991828e-05]\n",
      " [1.0268493e-04]\n",
      " [1.9867402e-04]\n",
      " [3.6932070e-04]\n",
      " [6.5962097e-04]\n",
      " [1.1319141e-03]\n",
      " [1.8662109e-03]\n",
      " [2.9562161e-03]\n",
      " [4.4992472e-03]\n",
      " [6.5791799e-03]\n",
      " [9.2434029e-03]\n",
      " [1.2477289e-02]\n",
      " [1.6182171e-02]\n",
      " [2.0164227e-02]\n",
      " [2.4140963e-02]\n",
      " [2.7768717e-02]\n",
      " [3.0689178e-02]\n",
      " [3.2586891e-02]\n",
      " [3.3245190e-02]\n",
      " [3.2586892e-02]\n",
      " [3.0689180e-02]\n",
      " [2.7768719e-02]\n",
      " [2.4140966e-02]\n",
      " [2.0164233e-02]\n",
      " [1.6182182e-02]\n",
      " [1.2477307e-02]\n",
      " [9.2434342e-03]\n",
      " [6.5792322e-03]\n",
      " [4.4993339e-03]\n",
      " [2.9563583e-03]\n",
      " [1.8664419e-03]\n",
      " [1.1322857e-03]\n",
      " [6.6021251e-04]\n",
      " [3.7025309e-04]\n",
      " [2.0012899e-04]\n",
      " [1.0493282e-04]\n",
      " [5.4430173e-05]\n",
      " [2.9535840e-05]\n",
      " [1.8959282e-05]\n",
      " [1.6500158e-05]\n",
      " [1.9108777e-05]\n",
      " [2.5623920e-05]\n",
      " [3.6024388e-05]\n",
      " [5.1030384e-05]\n",
      " [7.1924127e-05]\n",
      " [1.0049867e-04]\n",
      " [1.3907696e-04]\n",
      " [1.9056609e-04]\n",
      " [2.5852500e-04]\n",
      " [3.4723121e-04]\n",
      " [4.6173472e-04]\n",
      " [6.0788788e-04]\n",
      " [7.9233987e-04]\n",
      " [1.0224842e-03]\n",
      " [1.3063476e-03]\n",
      " [1.6524105e-03]\n",
      " [2.0693512e-03]\n",
      " [2.5657098e-03]\n",
      " [3.1494730e-03]\n",
      " [3.8275892e-03]\n",
      " [4.6054259e-03]\n",
      " [5.4861962e-03]\n",
      " [6.4703820e-03]\n",
      " [7.5551931e-03]\n",
      " [8.7341022e-03]\n",
      " [9.9965012e-03]\n",
      " [1.1327520e-02]\n",
      " [1.2708044e-02]\n",
      " [1.4114959e-02]\n",
      " [1.5521640e-02]\n",
      " [1.6898674e-02]\n",
      " [1.8214813e-02]\n",
      " [1.9438102e-02]\n",
      " [2.0537144e-02]\n",
      " [2.1482425e-02]\n",
      " [2.2247623e-02]\n",
      " [2.2810824e-02]\n",
      " [2.3155565e-02]\n",
      " [2.3271633e-02]\n",
      " [2.3155565e-02]\n",
      " [2.2810824e-02]\n",
      " [2.2247623e-02]\n",
      " [2.1482425e-02]\n",
      " [2.0537144e-02]\n",
      " [1.9438102e-02]\n",
      " [1.8214813e-02]\n",
      " [1.6898674e-02]\n",
      " [1.5521640e-02]\n",
      " [1.4114959e-02]\n",
      " [1.2708044e-02]\n",
      " [1.1327520e-02]\n",
      " [9.9965012e-03]\n",
      " [8.7341022e-03]\n",
      " [7.5551931e-03]\n",
      " [6.4703820e-03]\n",
      " [5.4861962e-03]\n",
      " [4.6054259e-03]\n",
      " [3.8275892e-03]\n",
      " [3.1494730e-03]\n",
      " [2.5657098e-03]\n",
      " [2.0693512e-03]\n",
      " [1.6524105e-03]\n",
      " [1.3063476e-03]\n",
      " [1.0224842e-03]\n",
      " [7.9233987e-04]\n",
      " [6.0788786e-04]\n",
      " [4.6173468e-04]\n",
      " [3.4723106e-04]\n",
      " [2.5852449e-04]\n",
      " [1.9056444e-04]\n",
      " [1.3907181e-04]\n",
      " [1.0048319e-04]\n",
      " [7.1879451e-05]\n",
      " [5.0906491e-05]\n",
      " [3.5694279e-05]\n",
      " [2.4778849e-05]\n",
      " [1.7030237e-05]\n",
      " [1.1588236e-05]\n",
      " [7.8067632e-06]\n",
      " [5.2069300e-06]\n",
      " [3.4383456e-06]\n",
      " [2.2478865e-06]\n",
      " [1.4549775e-06]\n",
      " [9.3238490e-07]\n",
      " [5.9154970e-07]\n",
      " [3.7157314e-07]\n",
      " [2.3107578e-07]\n",
      " [1.4227271e-07]\n",
      " [8.6725305e-08]\n",
      " [5.2339205e-08]\n",
      " [3.1272706e-08]\n",
      " [1.8499537e-08]\n",
      " [1.0834611e-08]\n",
      " [6.2823600e-09]\n",
      " [3.6065286e-09]\n",
      " [2.0498071e-09]\n",
      " [1.1534365e-09]\n",
      " [6.4258621e-10]\n",
      " [3.5442650e-10]\n",
      " [1.9354325e-10]\n",
      " [1.0463739e-10]\n",
      " [5.6008361e-11]\n",
      " [2.9680818e-11]\n",
      " [1.5572414e-11]\n",
      " [8.0889666e-12]\n",
      " [4.1599414e-12]\n",
      " [2.1180609e-12]\n",
      " [1.0676938e-12]\n",
      " [5.3285869e-13]\n",
      " [2.6329005e-13]\n",
      " [1.2879941e-13]\n",
      " [6.2380721e-14]\n",
      " [2.9911896e-14]\n",
      " [1.4200203e-14]\n",
      " [6.6742462e-15]\n",
      " [3.1057532e-15]\n",
      " [1.4308322e-15]\n",
      " [6.5263078e-16]\n",
      " [2.9471581e-16]\n",
      " [1.3176388e-16]\n",
      " [5.8323876e-17]\n",
      " [2.5559563e-17]\n",
      " [1.1089642e-17]\n",
      " [4.7636375e-18]\n",
      " [2.0258949e-18]\n",
      " [8.5300621e-19]\n",
      " [3.5558589e-19]\n",
      " [1.4675534e-19]\n",
      " [5.9965346e-20]\n",
      " [2.4258494e-20]\n",
      " [9.7159302e-21]\n",
      " [3.8526716e-21]\n",
      " [1.5125044e-21]\n",
      " [5.8787956e-22]\n",
      " [2.2622320e-22]\n",
      " [8.6187237e-23]\n",
      " [3.2509167e-23]\n",
      " [1.2140198e-23]\n",
      " [4.4885159e-24]]\n"
     ]
    }
   ],
   "source": [
    "x = np.asarray(df)\n",
    "print(x)"
   ]
  },
  {
   "cell_type": "code",
   "execution_count": 16,
   "metadata": {},
   "outputs": [
    {
     "name": "stdout",
     "output_type": "stream",
     "text": [
      "(50, 200)\n"
     ]
    },
    {
     "data": {
      "image/png": "[encoded data removed]",
      "text/plain": [
       "<Figure size 432x288 with 1 Axes>"
      ]
     },
     "metadata": {
      "needs_background": "light"
     },
     "output_type": "display_data"
    }
   ],
   "source": [
    "def exp_T(n, tmin, tmax, N):\n",
    "    return tmin * np.exp(- (n - 1) * np.log( tmin / tmax ) / (N - 1)) \n",
    "\n",
    "def reg_T(n, tmin, tmax, N):\n",
    "    return tmin + (tmax - tmin) * (n-1)/ (N - 1) \n",
    "\n",
    "N = 200\n",
    "n = np.arange(N)\n",
    "T_n_exp = exp_T(n, 1, 1000, N)\n",
    "\n",
    "fg, ax  = plt.subplots(1,1)\n",
    "ax.set_yscale('log')\n",
    "ax.plot(T_n_exp, x)\n",
    "\n",
    "M = 50\n",
    "n = np.arange(M)\n",
    "T_n_reg = reg_T(n, 0, 1.5, M)\n",
    "\n",
    "K = np.exp(-T_n_exp * np.expand_dims(T_n_reg, 1))\n",
    "print(K.shape)"
   ]
  },
  {
   "cell_type": "code",
   "execution_count": 41,
   "metadata": {},
   "outputs": [],
   "source": [
    "z = np.dot(K, x).reshape(-1,1)\n",
    "sigma_2 = (1e-4 * z  * z.T * np.eye(M))\n",
    "w = np.random.normal(loc = 0, scale=np.diag(sigma_2))"
   ]
  },
  {
   "cell_type": "code",
   "execution_count": 42,
   "metadata": {},
   "outputs": [
    {
     "data": {
      "text/plain": [
       "(50,)"
      ]
     },
     "execution_count": 42,
     "metadata": {},
     "output_type": "execute_result"
    }
   ],
   "source": [
    "w.shape"
   ]
  },
  {
   "cell_type": "code",
   "execution_count": 9,
   "metadata": {
    "scrolled": true
   },
   "outputs": [
    {
     "ename": "ValueError",
     "evalue": "x and y must have same first dimension, but have shapes (50,) and (200, 1)",
     "output_type": "error",
     "traceback": [
      "\u001b[0;31m---------------------------------------------------------------------------\u001b[0m",
      "\u001b[0;31mValueError\u001b[0m                                Traceback (most recent call last)",
      "\u001b[0;32m<ipython-input-9-c16cf286b077>\u001b[0m in \u001b[0;36m<module>\u001b[0;34m\u001b[0m\n\u001b[1;32m      1\u001b[0m \u001b[0mfg\u001b[0m\u001b[0;34m,\u001b[0m \u001b[0max\u001b[0m  \u001b[0;34m=\u001b[0m \u001b[0mplt\u001b[0m\u001b[0;34m.\u001b[0m\u001b[0msubplots\u001b[0m\u001b[0;34m(\u001b[0m\u001b[0;36m1\u001b[0m\u001b[0;34m,\u001b[0m\u001b[0;36m1\u001b[0m\u001b[0;34m)\u001b[0m\u001b[0;34m\u001b[0m\u001b[0;34m\u001b[0m\u001b[0m\n\u001b[0;32m----> 2\u001b[0;31m \u001b[0max\u001b[0m\u001b[0;34m.\u001b[0m\u001b[0mplot\u001b[0m\u001b[0;34m(\u001b[0m\u001b[0mT_n_reg\u001b[0m\u001b[0;34m,\u001b[0m \u001b[0mx\u001b[0m\u001b[0;34m)\u001b[0m\u001b[0;34m\u001b[0m\u001b[0;34m\u001b[0m\u001b[0m\n\u001b[0m",
      "\u001b[0;32m/usr/local/lib/python3.6/dist-packages/matplotlib/axes/_axes.py\u001b[0m in \u001b[0;36mplot\u001b[0;34m(self, scalex, scaley, data, *args, **kwargs)\u001b[0m\n\u001b[1;32m   1664\u001b[0m         \"\"\"\n\u001b[1;32m   1665\u001b[0m         \u001b[0mkwargs\u001b[0m \u001b[0;34m=\u001b[0m \u001b[0mcbook\u001b[0m\u001b[0;34m.\u001b[0m\u001b[0mnormalize_kwargs\u001b[0m\u001b[0;34m(\u001b[0m\u001b[0mkwargs\u001b[0m\u001b[0;34m,\u001b[0m \u001b[0mmlines\u001b[0m\u001b[0;34m.\u001b[0m\u001b[0mLine2D\u001b[0m\u001b[0;34m.\u001b[0m\u001b[0m_alias_map\u001b[0m\u001b[0;34m)\u001b[0m\u001b[0;34m\u001b[0m\u001b[0;34m\u001b[0m\u001b[0m\n\u001b[0;32m-> 1666\u001b[0;31m         \u001b[0mlines\u001b[0m \u001b[0;34m=\u001b[0m \u001b[0;34m[\u001b[0m\u001b[0;34m*\u001b[0m\u001b[0mself\u001b[0m\u001b[0;34m.\u001b[0m\u001b[0m_get_lines\u001b[0m\u001b[0;34m(\u001b[0m\u001b[0;34m*\u001b[0m\u001b[0margs\u001b[0m\u001b[0;34m,\u001b[0m \u001b[0mdata\u001b[0m\u001b[0;34m=\u001b[0m\u001b[0mdata\u001b[0m\u001b[0;34m,\u001b[0m \u001b[0;34m**\u001b[0m\u001b[0mkwargs\u001b[0m\u001b[0;34m)\u001b[0m\u001b[0;34m]\u001b[0m\u001b[0;34m\u001b[0m\u001b[0;34m\u001b[0m\u001b[0m\n\u001b[0m\u001b[1;32m   1667\u001b[0m         \u001b[0;32mfor\u001b[0m \u001b[0mline\u001b[0m \u001b[0;32min\u001b[0m \u001b[0mlines\u001b[0m\u001b[0;34m:\u001b[0m\u001b[0;34m\u001b[0m\u001b[0;34m\u001b[0m\u001b[0m\n\u001b[1;32m   1668\u001b[0m             \u001b[0mself\u001b[0m\u001b[0;34m.\u001b[0m\u001b[0madd_line\u001b[0m\u001b[0;34m(\u001b[0m\u001b[0mline\u001b[0m\u001b[0;34m)\u001b[0m\u001b[0;34m\u001b[0m\u001b[0;34m\u001b[0m\u001b[0m\n",
      "\u001b[0;32m/usr/local/lib/python3.6/dist-packages/matplotlib/axes/_base.py\u001b[0m in \u001b[0;36m__call__\u001b[0;34m(self, *args, **kwargs)\u001b[0m\n\u001b[1;32m    223\u001b[0m                 \u001b[0mthis\u001b[0m \u001b[0;34m+=\u001b[0m \u001b[0margs\u001b[0m\u001b[0;34m[\u001b[0m\u001b[0;36m0\u001b[0m\u001b[0;34m]\u001b[0m\u001b[0;34m,\u001b[0m\u001b[0;34m\u001b[0m\u001b[0;34m\u001b[0m\u001b[0m\n\u001b[1;32m    224\u001b[0m                 \u001b[0margs\u001b[0m \u001b[0;34m=\u001b[0m \u001b[0margs\u001b[0m\u001b[0;34m[\u001b[0m\u001b[0;36m1\u001b[0m\u001b[0;34m:\u001b[0m\u001b[0;34m]\u001b[0m\u001b[0;34m\u001b[0m\u001b[0;34m\u001b[0m\u001b[0m\n\u001b[0;32m--> 225\u001b[0;31m             \u001b[0;32myield\u001b[0m \u001b[0;32mfrom\u001b[0m \u001b[0mself\u001b[0m\u001b[0;34m.\u001b[0m\u001b[0m_plot_args\u001b[0m\u001b[0;34m(\u001b[0m\u001b[0mthis\u001b[0m\u001b[0;34m,\u001b[0m \u001b[0mkwargs\u001b[0m\u001b[0;34m)\u001b[0m\u001b[0;34m\u001b[0m\u001b[0;34m\u001b[0m\u001b[0m\n\u001b[0m\u001b[1;32m    226\u001b[0m \u001b[0;34m\u001b[0m\u001b[0m\n\u001b[1;32m    227\u001b[0m     \u001b[0;32mdef\u001b[0m \u001b[0mget_next_color\u001b[0m\u001b[0;34m(\u001b[0m\u001b[0mself\u001b[0m\u001b[0;34m)\u001b[0m\u001b[0;34m:\u001b[0m\u001b[0;34m\u001b[0m\u001b[0;34m\u001b[0m\u001b[0m\n",
      "\u001b[0;32m/usr/local/lib/python3.6/dist-packages/matplotlib/axes/_base.py\u001b[0m in \u001b[0;36m_plot_args\u001b[0;34m(self, tup, kwargs)\u001b[0m\n\u001b[1;32m    389\u001b[0m             \u001b[0mx\u001b[0m\u001b[0;34m,\u001b[0m \u001b[0my\u001b[0m \u001b[0;34m=\u001b[0m \u001b[0mindex_of\u001b[0m\u001b[0;34m(\u001b[0m\u001b[0mtup\u001b[0m\u001b[0;34m[\u001b[0m\u001b[0;34m-\u001b[0m\u001b[0;36m1\u001b[0m\u001b[0;34m]\u001b[0m\u001b[0;34m)\u001b[0m\u001b[0;34m\u001b[0m\u001b[0;34m\u001b[0m\u001b[0m\n\u001b[1;32m    390\u001b[0m \u001b[0;34m\u001b[0m\u001b[0m\n\u001b[0;32m--> 391\u001b[0;31m         \u001b[0mx\u001b[0m\u001b[0;34m,\u001b[0m \u001b[0my\u001b[0m \u001b[0;34m=\u001b[0m \u001b[0mself\u001b[0m\u001b[0;34m.\u001b[0m\u001b[0m_xy_from_xy\u001b[0m\u001b[0;34m(\u001b[0m\u001b[0mx\u001b[0m\u001b[0;34m,\u001b[0m \u001b[0my\u001b[0m\u001b[0;34m)\u001b[0m\u001b[0;34m\u001b[0m\u001b[0;34m\u001b[0m\u001b[0m\n\u001b[0m\u001b[1;32m    392\u001b[0m \u001b[0;34m\u001b[0m\u001b[0m\n\u001b[1;32m    393\u001b[0m         \u001b[0;32mif\u001b[0m \u001b[0mself\u001b[0m\u001b[0;34m.\u001b[0m\u001b[0mcommand\u001b[0m \u001b[0;34m==\u001b[0m \u001b[0;34m'plot'\u001b[0m\u001b[0;34m:\u001b[0m\u001b[0;34m\u001b[0m\u001b[0;34m\u001b[0m\u001b[0m\n",
      "\u001b[0;32m/usr/local/lib/python3.6/dist-packages/matplotlib/axes/_base.py\u001b[0m in \u001b[0;36m_xy_from_xy\u001b[0;34m(self, x, y)\u001b[0m\n\u001b[1;32m    268\u001b[0m         \u001b[0;32mif\u001b[0m \u001b[0mx\u001b[0m\u001b[0;34m.\u001b[0m\u001b[0mshape\u001b[0m\u001b[0;34m[\u001b[0m\u001b[0;36m0\u001b[0m\u001b[0;34m]\u001b[0m \u001b[0;34m!=\u001b[0m \u001b[0my\u001b[0m\u001b[0;34m.\u001b[0m\u001b[0mshape\u001b[0m\u001b[0;34m[\u001b[0m\u001b[0;36m0\u001b[0m\u001b[0;34m]\u001b[0m\u001b[0;34m:\u001b[0m\u001b[0;34m\u001b[0m\u001b[0;34m\u001b[0m\u001b[0m\n\u001b[1;32m    269\u001b[0m             raise ValueError(\"x and y must have same first dimension, but \"\n\u001b[0;32m--> 270\u001b[0;31m                              \"have shapes {} and {}\".format(x.shape, y.shape))\n\u001b[0m\u001b[1;32m    271\u001b[0m         \u001b[0;32mif\u001b[0m \u001b[0mx\u001b[0m\u001b[0;34m.\u001b[0m\u001b[0mndim\u001b[0m \u001b[0;34m>\u001b[0m \u001b[0;36m2\u001b[0m \u001b[0;32mor\u001b[0m \u001b[0my\u001b[0m\u001b[0;34m.\u001b[0m\u001b[0mndim\u001b[0m \u001b[0;34m>\u001b[0m \u001b[0;36m2\u001b[0m\u001b[0;34m:\u001b[0m\u001b[0;34m\u001b[0m\u001b[0;34m\u001b[0m\u001b[0m\n\u001b[1;32m    272\u001b[0m             raise ValueError(\"x and y can be no greater than 2-D, but have \"\n",
      "\u001b[0;31mValueError\u001b[0m: x and y must have same first dimension, but have shapes (50,) and (200, 1)"
     ]
    },
    {
     "data": {
      "image/png": "[encoded data removed]",
      "text/plain": [
       "<Figure size 432x288 with 1 Axes>"
      ]
     },
     "metadata": {
      "needs_background": "light"
     },
     "output_type": "display_data"
    }
   ],
   "source": [
    "fg, ax  = plt.subplots(1,1)\n",
    "ax.plot(T_n_reg, x)"
   ]
  },
  {
   "cell_type": "code",
   "execution_count": null,
   "metadata": {},
   "outputs": [],
   "source": [
    "def proj_grad(): \n",
    "    while \n",
    "    "
   ]
  }
 ],
 "metadata": {
  "kernelspec": {
   "display_name": "Python 3",
   "language": "python",
   "name": "python3"
  },
  "language_info": {
   "codemirror_mode": {
    "name": "ipython",
    "version": 3
   },
   "file_extension": ".py",
   "mimetype": "text/x-python",
   "name": "python",
   "nbconvert_exporter": "python",
   "pygments_lexer": "ipython3",
   "version": "3.6.8"
  }
 },
 "nbformat": 4,
 "nbformat_minor": 2
}
