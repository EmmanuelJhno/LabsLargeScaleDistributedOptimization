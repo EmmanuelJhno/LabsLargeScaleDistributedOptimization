{
 "cells": [
  {
   "cell_type": "code",
   "execution_count": 1,
   "metadata": {},
   "outputs": [],
   "source": [
    "import pandas as pd \n",
    "import numpy as np \n",
    "import matplotlib.pyplot as plt\n",
    "import seaborn as sns; sns.set()"
   ]
  },
  {
   "cell_type": "markdown",
   "metadata": {},
   "source": [
    "## Generation of synthetic data"
   ]
  },
  {
   "cell_type": "code",
   "execution_count": 2,
   "metadata": {},
   "outputs": [],
   "source": [
    "df = pd.read_csv('signal.txt',header=None)\n",
    "x = np.asarray(df)"
   ]
  },
  {
   "cell_type": "markdown",
   "metadata": {},
   "source": [
    "Create T using the exponential sampling strategy : $$(\\forall n \\in\\{1, \\ldots, N\\}) \\quad T^{(n)}=T_{\\min } \\exp \\left(-(n-1) \\frac{\\log \\left(T_{\\min } / T_{\\max }\\right)}{N-1}\\right)$$\n",
    "And create t using the regular sampling strategy : $$(\\forall m \\in\\{1, \\ldots, M\\}) \\quad t^{(m)}=t_{\\min }+\\frac{m-1}{M-1}\\left(t_{\\max }-t_{\\min }\\right)$$\n",
    "Then, K is created using : $$(\\forall m \\in\\{1, \\ldots, M\\})(\\forall n \\in\\{1, \\ldots, N\\}) \\quad K^{(m, n)}=\\exp \\left(-T^{(n)} t^{(m)}\\right)$$"
   ]
  },
  {
   "cell_type": "code",
   "execution_count": 3,
   "metadata": {
    "scrolled": true
   },
   "outputs": [
    {
     "data": {
      "image/png": "[encoded data removed]",
      "text/plain": [
       "<Figure size 432x288 with 1 Axes>"
      ]
     },
     "metadata": {
      "needs_background": "light"
     },
     "output_type": "display_data"
    }
   ],
   "source": [
    "def exp_T(n, Tmin, Tmax, N):\n",
    "    \"\"\"\n",
    "    Exponential sampling strategy\n",
    "    \"\"\"\n",
    "    return Tmin * np.exp(- (n - 1) * np.log( Tmin / Tmax ) / (N - 1)) \n",
    "\n",
    "def reg_T(m, tmin, tmax, M):\n",
    "    \"\"\"\n",
    "    Regular sampling strategy\n",
    "    \"\"\"\n",
    "    return tmin + (tmax - tmin) * (m-1)/ (M - 1) \n",
    "\n",
    "N = 200\n",
    "n = np.arange(N)+1\n",
    "T_n_exp = exp_T(n, 1, 1000, N)\n",
    "\n",
    "fg, ax  = plt.subplots(1,1)\n",
    "ax.set_xscale('log')\n",
    "ax.plot(T_n_exp, x)\n",
    "ax.set_title('Original signal x_bar as a function of T')\n",
    "\n",
    "M = 50\n",
    "m = np.arange(M)+1\n",
    "T_n_reg = reg_T(m, 0, 1.5, M)\n",
    "\n",
    "K = np.exp(-T_n_reg.reshape(-1,1) @ T_n_exp.reshape(-1,1).T)"
   ]
  },
  {
   "cell_type": "code",
   "execution_count": 4,
   "metadata": {},
   "outputs": [
    {
     "data": {
      "text/plain": [
       "Text(0.5, 1.0, 'Resulting noisy data y as a function of t')"
      ]
     },
     "execution_count": 4,
     "metadata": {},
     "output_type": "execute_result"
    },
    {
     "data": {
      "image/png": "[encoded data removed]",
      "text/plain": [
       "<Figure size 432x288 with 1 Axes>"
      ]
     },
     "metadata": {
      "needs_background": "light"
     },
     "output_type": "display_data"
    }
   ],
   "source": [
    "z = K @ x\n",
    "sigma_2 = np.square(1e-2 * z[0]) * np.eye(M)\n",
    "w = np.random.normal(loc = 0, scale=np.diag(sigma_2))\n",
    "y = z.reshape(-1,) + w\n",
    "\n",
    "fg, ax  = plt.subplots(1,1)\n",
    "ax.plot(T_n_reg, y, linestyle='',marker='.')\n",
    "ax.set_title('Resulting noisy data y as a function of t')"
   ]
  },
  {
   "cell_type": "markdown",
   "metadata": {},
   "source": [
    "## Maximum Entropy Regularization"
   ]
  },
  {
   "cell_type": "markdown",
   "metadata": {},
   "source": [
    "Find the solution $$\\widehat{x}=\\underset{x \\in \\mathbb{R}^{N}}{\\operatorname{argmin}} \\frac{1}{2}\\|K x-y\\|^{2}+\\beta \\operatorname{ent}(x)$$\n",
    "Where, $$\\left(\\forall x \\in \\mathbb{R}^{N}\\right) \\quad \\operatorname{ent}(x)=\\sum_{n=1}^{N} \\varphi\\left(x^{(n)}\\right)$$\n",
    "With, $$(\\forall u \\in \\mathbb{R}) \\quad \\varphi(u)=\\left\\{\\begin{array}{ll}{u \\log u} & {\\text { if } u>0} \\\\ {0} & {\\text { if } u=0} \\\\ {+\\infty} & {\\text { elsewhere }}\\end{array}\\right.$$"
   ]
  },
  {
   "cell_type": "markdown",
   "metadata": {},
   "source": [
    "### Question 1 \n",
    "\n",
    "$$\n",
    "\\frac{\\partial^{2}(u \\log u)}{\\partial u^{2}} = \\frac{\\partial(\\log u + u)}{\\partial u} = \\frac{1}{u}+1>0\\\\\n",
    "\\lim_{u \\to 0^{+}} \\varphi(u) = 0 = \\varphi(0)\n",
    "$$\n",
    "\n",
    "Thus, $\\varphi$ is convex on $\\mathbb{R}^{*}_{+}$ and **ent is convex** on $(\\mathbb{R}^{*}_{+})^{N}$ as a sum of convex functions.\n",
    "\n",
    "ent is also **proper** as its domain is clearly not empty : $0_{\\mathbb{R}^{N}} \\in dom(ent)$.\n",
    "\n",
    "ent is also lsc as a finite sum of lsc functions as $\\varphi$ has a **closed epigraph**.\n",
    "\n",
    "However, $\\varphi$ is not differentiable at 0, and thus **ent is not differentiable on $\\mathbb{R}^{N}$**.\n",
    "\n",
    "### Question 2 \n",
    "\n",
    "First, note that the norm doesn't have an impact on the needed properties of the global function to assess the existence and uniqueness of a solution. Indeed, it is convex, continuous, coercive and if ent is strictly convex, than the global function also is. Also note that $\\mathbb{R}^{N}$ is **closed and convex**.\n",
    "\n",
    "As we are working in a **finite dimension**, ent is lower-semicontinuous and coercive, then **ent is inf-compacte**. According to a theorem from the *optimization* course, we know that **the optimization problem has a solution**.\n",
    "\n",
    "Moreover, as demonstrated in question 1, ent is **strictly convex** and thus **the optimization problem has a unique solution**.\n",
    "\n",
    "### Question 3 \n",
    "\n",
    "$$\\forall x \\in \\mathbb{R}^{N}, \\operatorname{prox}_{\\gamma ent}(x) = (\\operatorname{prox}_{\\gamma \\varphi}(x_{i}))_{i \\in [1, N]}\\\\\n",
    "\\operatorname{prox}_{\\gamma \\varphi}(u)=\\arg \\min _{v \\in \\mathbb{R}} \\frac{1}{2}(v-u)^{2}+\\gamma v \\log v \\operatorname{, if} v \\geq 0\\\\\n",
    "\\operatorname{Then, } h(v) = \\frac{1}{2}(v-u)^{2}+\\gamma v \\log v\\\\\n",
    "\\frac{d h(v)}{d v}=v-u+\\gamma (\\log (v)+1)\\\\\n",
    "\\begin{aligned} 0=\\frac{d h(v)}{d v} & \\Leftrightarrow \\frac{1}{\\gamma} e^{\\frac{u}{\\gamma}}=\\frac{v}{\\gamma} e^{\\frac{v}{\\gamma}+1} \\\\ & \\Leftrightarrow\\frac{v}{\\gamma} e^{\\frac{v}{\\gamma}}=e^{\\frac{u}{\\gamma}-1-\\log \\gamma} \\end{aligned}$$\n",
    "On introduit alors la fonction de Lambert \n",
    "$$W : \\mathbb{C} \\rightarrow \\mathbb{C}\\\\ \n",
    "x \\rightarrow f^{-1}(x)\\\\\n",
    "\\operatorname{With, } f(u)=u e^{u}$$\n",
    "Hence, $$v=\\gamma W\\left(e^{\\frac{u}{\\gamma}-1-\\log (\\gamma)}\\right)=\\operatorname{prox}_{\\gamma \\varphi} u$$\n",
    "\n",
    "Finally, \n",
    "$$\\forall x \\in \\mathbb{R}^{N}, \\operatorname{prox}_{\\gamma ent}(x) = (\\gamma W\\left(e^{\\frac{x_i}{\\gamma}-1-\\log (\\gamma)}\\right))_{i \\in [1, N]}$$"
   ]
  },
  {
   "cell_type": "markdown",
   "metadata": {},
   "source": [
    "Moreover, remember that $$\\operatorname{prox}_{\\frac{1}{2}\\|K .-y\\|^{2}}(x) = \\left(K^{T} K+ \\operatorname{id}\\right)^{-1}\\left(x+K^{T} y\\right)$$"
   ]
  },
  {
   "cell_type": "markdown",
   "metadata": {},
   "source": [
    "### Question 4 & 5\n",
    "###### proximal operators"
   ]
  },
  {
   "cell_type": "code",
   "execution_count": 5,
   "metadata": {},
   "outputs": [],
   "source": [
    "from scipy.special import  lambertw"
   ]
  },
  {
   "cell_type": "code",
   "execution_count": 6,
   "metadata": {},
   "outputs": [],
   "source": [
    "def prox_g(u, gamma=1):\n",
    "    ''' \n",
    "    return the prox_{gamma * ent}(x)\n",
    "    '''\n",
    "#     print(lambertw(np.exp(u / gamma - 1 - np.log(gamma))))\n",
    "    return(np.real(gamma * lambertw(np.exp(u / gamma - 1 - np.log(gamma)))))\n",
    "\n",
    "def prox_f(x, K, y): \n",
    "    ''' \n",
    "    return the prox_{||K . -y ||^2}(x)\n",
    "    '''\n",
    "    return np.linalg.inv(K.T @ K + np.eye(K.shape[1])) @ (x + K.T @ y)"
   ]
  },
  {
   "cell_type": "markdown",
   "metadata": {},
   "source": [
    "#### Forward Backward Algorithm"
   ]
  },
  {
   "cell_type": "code",
   "execution_count": 8,
   "metadata": {
    "scrolled": false
   },
   "outputs": [
    {
     "name": "stderr",
     "output_type": "stream",
     "text": [
      "/anaconda3/lib/python3.6/site-packages/ipykernel_launcher.py:17: RuntimeWarning: divide by zero encountered in double_scalars\n"
     ]
    },
    {
     "data": {
      "text/plain": [
       "Text(0.5, 1.0, 'Reconstruction result, Forward-Backward algorithm, beta=0.01, normalized_error=0.7491093042762216')"
      ]
     },
     "execution_count": 8,
     "metadata": {},
     "output_type": "execute_result"
    },
    {
     "data": {
      "image/png": "[encoded data removed]",
      "text/plain": [
       "<Figure size 432x288 with 1 Axes>"
      ]
     },
     "metadata": {
      "needs_background": "light"
     },
     "output_type": "display_data"
    }
   ],
   "source": [
    "def for_back(beta, eps=1e-6, max_iter=1000):\n",
    "    nu = np.max(abs(np.linalg.eigvals(K.T @ K)))\n",
    "    # choose gamma in ]0, 2/nu[\n",
    "    gamma = 1/nu\n",
    "    delta = 2 - gamma*nu/2\n",
    "    # choose lbda in [0, delta[\n",
    "    lbda = delta/2#\n",
    "    \n",
    "    itr = 0\n",
    "    x_n = np.zeros(x.shape)\n",
    "    convergence = False\n",
    "    while itr < max_iter and not convergence:\n",
    "        y_n = x_n - gamma * K.T @ (K @ x_n - y.reshape(-1,1))\n",
    "        x_n1 = x_n + lbda * (prox_g(y_n, gamma = gamma * beta) - x_n)\n",
    "        if np.isinf(x_n1).any():\n",
    "            raise ValueError\n",
    "        error = np.linalg.norm(x_n1 - x_n, ord=2) / np.linalg.norm(x_n, ord=2)\n",
    "        if error < eps : \n",
    "            convergence = True\n",
    "        x_n = x_n1\n",
    "        \n",
    "        itr += 1\n",
    "        \n",
    "    return x_n, error\n",
    "    \n",
    "beta=1e-2\n",
    "x_rec_FB, error = for_back(beta, eps=1e-6, max_iter=1000)\n",
    "rec_error = np.linalg.norm(x-x_rec_FB, ord=2)/np.linalg.norm(x, ord=2)\n",
    "fg, ax = plt.subplots(1,1)\n",
    "ax.set_xscale('log')\n",
    "ax.plot(T_n_exp, x_rec_FB, label='restored')\n",
    "ax.plot(T_n_exp, x, label='original')\n",
    "ax.legend()\n",
    "ax.set_title('Reconstruction result, Forward-Backward algorithm, beta={0}, normalized_error={1}'.format(beta, \n",
    "                                                                                                    rec_error))"
   ]
  },
  {
   "cell_type": "markdown",
   "metadata": {},
   "source": [
    "The use of the exp makes the implementation numerically instable which does not allow to reduce the beta parameter to smaller values."
   ]
  },
  {
   "cell_type": "markdown",
   "metadata": {},
   "source": [
    "#### Douglas-Rachford Algorithm "
   ]
  },
  {
   "cell_type": "code",
   "execution_count": 11,
   "metadata": {
    "scrolled": false
   },
   "outputs": [
    {
     "name": "stderr",
     "output_type": "stream",
     "text": [
      "/anaconda3/lib/python3.6/site-packages/ipykernel_launcher.py:18: RuntimeWarning: divide by zero encountered in double_scalars\n"
     ]
    },
    {
     "data": {
      "text/plain": [
       "Text(0.5, 1.0, 'Reconstruction result, Douglas-Rashford algorithm, beta=0.001, normalized_error=0.7018906601743213')"
      ]
     },
     "execution_count": 11,
     "metadata": {},
     "output_type": "execute_result"
    },
    {
     "data": {
      "image/png": "[encoded data removed]",
      "text/plain": [
       "<Figure size 432x288 with 1 Axes>"
      ]
     },
     "metadata": {
      "needs_background": "light"
     },
     "output_type": "display_data"
    }
   ],
   "source": [
    "def doug_rach(beta, eps=1e-6, max_iter=1000):\n",
    "    nu = np.max(abs(np.linalg.eigvals(K.T @ K)))\n",
    "    # choose gamma in ]0, 2/nu[\n",
    "    gamma = 1 #1/nu\n",
    "    delta = 2 - gamma*nu/2\n",
    "    # choose lbda in [0, delta[\n",
    "    lbda = 1/2 #delta/2#\n",
    "    \n",
    "    itr = 0\n",
    "    x_n = np.zeros(x.shape) #np.random.random(x.shape)\n",
    "    convergence = False\n",
    "    while itr < max_iter and not convergence:\n",
    "        y_n = prox_g(x_n, gamma = beta)\n",
    "        z_n = prox_f(2 * y_n - x_n, K, y.reshape(-1,1)) \n",
    "        x_n1 = x_n + lbda * (z_n - y_n)\n",
    "        if np.isinf(x_n1).any():\n",
    "            raise ValueError\n",
    "        error = np.linalg.norm(x_n1 - x_n, ord=2) / np.linalg.norm(x_n, ord=2) \n",
    "        if error < eps : \n",
    "            convergence = True\n",
    "        x_n = x_n1 \n",
    "        \n",
    "        itr += 1\n",
    "        \n",
    "    return x_n, error\n",
    "\n",
    "beta = 1e-3 #0.000159\n",
    "x_rec_DR, error = doug_rach(beta, eps=1e-6, max_iter=1000)\n",
    "rec_error = np.linalg.norm(x-x_rec_DR, ord=2)/np.linalg.norm(x, ord=2)\n",
    "fg, ax = plt.subplots(1,1)\n",
    "ax.set_xscale('log')\n",
    "ax.plot(T_n_exp, x_rec_DR, label='restored')\n",
    "ax.plot(T_n_exp, x, label='original')\n",
    "ax.legend()\n",
    "ax.set_title('Reconstruction result, Douglas-Rashford algorithm, beta={0}, normalized_error={1}'.format(beta, \n",
    "                                                                                                    rec_error))"
   ]
  },
  {
   "cell_type": "markdown",
   "metadata": {},
   "source": [
    "### Question 6"
   ]
  },
  {
   "cell_type": "markdown",
   "metadata": {},
   "source": [
    "#### Choosing $\\beta$ for each value of $q$\n",
    "\n",
    "With a fixed number of evaluation $n$ we want to get closer to the mimimum. \n",
    "\n",
    "To solve this probleme one can use the golden section search method.\n",
    "We assume that the minimum of  $\\beta \\mapsto error(\\beta)$ is between two value $a,b$ (one can just take a small enough value for $a$ and a high enough value for $b$). \n",
    "\n",
    "\n",
    "We initialize the algortihm with $\\beta_0 = a$ and $\\beta_3 = b$. \n",
    "\n",
    "\n",
    "At each iteration, we take 2 values for $\\beta$ subject to \n",
    "$$\\beta_1 = \\beta_0 + \\frac{3- \\sqrt{5}}{2}(\\beta_3 - \\beta_0)$$ \n",
    "$$\\beta_2 = \\beta_0 + \\frac{\\sqrt{5}-1}{2}(\\beta_3 - \\beta_0)$$ \n",
    "then if  $error(\\beta_1)< error(\\beta_2)$ : we iterate with $\\beta_3 :=\\beta_2$ else $\\beta_0 := \\beta_1$ \n",
    "\n",
    "Under the assumption that there is only one local minimum for $\\beta$ and that the initialization segment is big enough, we approximate the optimal value for $\\beta$."
   ]
  },
  {
   "cell_type": "code",
   "execution_count": 12,
   "metadata": {},
   "outputs": [],
   "source": [
    "def golden_section_search(function, x, beta_range, tol=1e-8, it_max=100):\n",
    "    beta0, beta3 = beta_range\n",
    "    error = []\n",
    "    betas = []\n",
    "    golden_section_gamma = [(3 - np.sqrt(5))/2 , (np.sqrt(5)-1)/2]\n",
    "    best_beta = {}\n",
    "    it = 0\n",
    "    converged = False\n",
    "    while not converged and (it < it_max):\n",
    "        it=it+1\n",
    "        beta1 = beta0 + golden_section_gamma[0] * (beta3 - beta0)\n",
    "        beta2 = beta0 + golden_section_gamma[1] * (beta3 - beta0)\n",
    "\n",
    "        x_rec_1, _ = function(10**beta1)\n",
    "        rec_error1 = np.linalg.norm(x-x_rec_1, ord=2)/np.linalg.norm(x, ord=2)\n",
    "        betas.append(10**beta1)\n",
    "        error.append(rec_error1)\n",
    "\n",
    "        x_rec_2, _ = function(10**beta2)\n",
    "        rec_error2 = np.linalg.norm(x-x_rec_2, ord=2)/np.linalg.norm(x, ord=2)\n",
    "        betas.append(10**beta2)\n",
    "        error.append(rec_error2)\n",
    "\n",
    "        converged = (abs(rec_error2 - rec_error1)<tol)\n",
    "        if rec_error1 < rec_error2 : \n",
    "            beta0, beta3 = beta0, beta2\n",
    "        else: \n",
    "            beta0, beta3 = beta1, beta3\n",
    "    if converged :\n",
    "        print('optimal value reached for : beta = {:.2e}'.format(10**beta1))\n",
    "    end = time.time()\n",
    "\n",
    "    x_rec, error = function(10**beta1)\n",
    "    rec_error = np.linalg.norm(x-x_rec, ord=2)/np.linalg.norm(x, ord=2)\n",
    "    fg, ax = plt.subplots(1,1)\n",
    "    ax.set_xscale('log')\n",
    "    ax.plot(T_n_exp, x_rec, label='restored')\n",
    "    ax.plot(T_n_exp, x, label='original')\n",
    "    ax.legend()\n",
    "    ax.set_title('Reconstruction result, Sparsity prior, \\nbeta={0:.2e}, normalized_error={1:.3f}'.format(\n",
    "                                                                            10**beta1, rec_error))"
   ]
  },
  {
   "cell_type": "code",
   "execution_count": 13,
   "metadata": {},
   "outputs": [
    {
     "name": "stderr",
     "output_type": "stream",
     "text": [
      "/anaconda3/lib/python3.6/site-packages/ipykernel_launcher.py:6: RuntimeWarning: overflow encountered in exp\n",
      "  \n",
      "/anaconda3/lib/python3.6/site-packages/ipykernel_launcher.py:6: RuntimeWarning: invalid value encountered in multiply\n",
      "  \n"
     ]
    },
    {
     "ename": "ValueError",
     "evalue": "",
     "output_type": "error",
     "traceback": [
      "\u001b[0;31m---------------------------------------------------------------------------\u001b[0m",
      "\u001b[0;31mValueError\u001b[0m                                Traceback (most recent call last)",
      "\u001b[0;32m<ipython-input-13-e3ac0ac80bd7>\u001b[0m in \u001b[0;36m<module>\u001b[0;34m\u001b[0m\n\u001b[0;32m----> 1\u001b[0;31m \u001b[0mgolden_section_search\u001b[0m\u001b[0;34m(\u001b[0m\u001b[0mfor_back\u001b[0m\u001b[0;34m,\u001b[0m \u001b[0mx\u001b[0m\u001b[0;34m,\u001b[0m \u001b[0mbeta_range\u001b[0m\u001b[0;34m=\u001b[0m\u001b[0;34m[\u001b[0m\u001b[0;34m-\u001b[0m\u001b[0;36m10\u001b[0m\u001b[0;34m,\u001b[0m\u001b[0;34m-\u001b[0m\u001b[0;36m1\u001b[0m\u001b[0;34m]\u001b[0m\u001b[0;34m,\u001b[0m \u001b[0mtol\u001b[0m\u001b[0;34m=\u001b[0m\u001b[0;36m1e-8\u001b[0m\u001b[0;34m,\u001b[0m \u001b[0mit_max\u001b[0m\u001b[0;34m=\u001b[0m\u001b[0;36m1000\u001b[0m\u001b[0;34m)\u001b[0m\u001b[0;34m\u001b[0m\u001b[0;34m\u001b[0m\u001b[0m\n\u001b[0m",
      "\u001b[0;32m<ipython-input-12-194cf936ead3>\u001b[0m in \u001b[0;36mgolden_section_search\u001b[0;34m(function, x, beta_range, tol, it_max)\u001b[0m\n\u001b[1;32m     12\u001b[0m         \u001b[0mbeta2\u001b[0m \u001b[0;34m=\u001b[0m \u001b[0mbeta0\u001b[0m \u001b[0;34m+\u001b[0m \u001b[0mgolden_section_gamma\u001b[0m\u001b[0;34m[\u001b[0m\u001b[0;36m1\u001b[0m\u001b[0;34m]\u001b[0m \u001b[0;34m*\u001b[0m \u001b[0;34m(\u001b[0m\u001b[0mbeta3\u001b[0m \u001b[0;34m-\u001b[0m \u001b[0mbeta0\u001b[0m\u001b[0;34m)\u001b[0m\u001b[0;34m\u001b[0m\u001b[0;34m\u001b[0m\u001b[0m\n\u001b[1;32m     13\u001b[0m \u001b[0;34m\u001b[0m\u001b[0m\n\u001b[0;32m---> 14\u001b[0;31m         \u001b[0mx_rec_1\u001b[0m\u001b[0;34m,\u001b[0m \u001b[0m_\u001b[0m \u001b[0;34m=\u001b[0m \u001b[0mfunction\u001b[0m\u001b[0;34m(\u001b[0m\u001b[0;36m10\u001b[0m\u001b[0;34m**\u001b[0m\u001b[0mbeta1\u001b[0m\u001b[0;34m)\u001b[0m\u001b[0;34m\u001b[0m\u001b[0;34m\u001b[0m\u001b[0m\n\u001b[0m\u001b[1;32m     15\u001b[0m         \u001b[0mrec_error1\u001b[0m \u001b[0;34m=\u001b[0m \u001b[0mnp\u001b[0m\u001b[0;34m.\u001b[0m\u001b[0mlinalg\u001b[0m\u001b[0;34m.\u001b[0m\u001b[0mnorm\u001b[0m\u001b[0;34m(\u001b[0m\u001b[0mx\u001b[0m\u001b[0;34m-\u001b[0m\u001b[0mx_rec_1\u001b[0m\u001b[0;34m,\u001b[0m \u001b[0mord\u001b[0m\u001b[0;34m=\u001b[0m\u001b[0;36m2\u001b[0m\u001b[0;34m)\u001b[0m\u001b[0;34m/\u001b[0m\u001b[0mnp\u001b[0m\u001b[0;34m.\u001b[0m\u001b[0mlinalg\u001b[0m\u001b[0;34m.\u001b[0m\u001b[0mnorm\u001b[0m\u001b[0;34m(\u001b[0m\u001b[0mx\u001b[0m\u001b[0;34m,\u001b[0m \u001b[0mord\u001b[0m\u001b[0;34m=\u001b[0m\u001b[0;36m2\u001b[0m\u001b[0;34m)\u001b[0m\u001b[0;34m\u001b[0m\u001b[0;34m\u001b[0m\u001b[0m\n\u001b[1;32m     16\u001b[0m         \u001b[0mbetas\u001b[0m\u001b[0;34m.\u001b[0m\u001b[0mappend\u001b[0m\u001b[0;34m(\u001b[0m\u001b[0;36m10\u001b[0m\u001b[0;34m**\u001b[0m\u001b[0mbeta1\u001b[0m\u001b[0;34m)\u001b[0m\u001b[0;34m\u001b[0m\u001b[0;34m\u001b[0m\u001b[0m\n",
      "\u001b[0;32m<ipython-input-8-4ba509ee7f0f>\u001b[0m in \u001b[0;36mfor_back\u001b[0;34m(beta, eps, max_iter)\u001b[0m\n\u001b[1;32m     14\u001b[0m         \u001b[0mx_n1\u001b[0m \u001b[0;34m=\u001b[0m \u001b[0mx_n\u001b[0m \u001b[0;34m+\u001b[0m \u001b[0mlbda\u001b[0m \u001b[0;34m*\u001b[0m \u001b[0;34m(\u001b[0m\u001b[0mprox_g\u001b[0m\u001b[0;34m(\u001b[0m\u001b[0my_n\u001b[0m\u001b[0;34m,\u001b[0m \u001b[0mgamma\u001b[0m \u001b[0;34m=\u001b[0m \u001b[0mgamma\u001b[0m \u001b[0;34m*\u001b[0m \u001b[0mbeta\u001b[0m\u001b[0;34m)\u001b[0m \u001b[0;34m-\u001b[0m \u001b[0mx_n\u001b[0m\u001b[0;34m)\u001b[0m\u001b[0;34m\u001b[0m\u001b[0;34m\u001b[0m\u001b[0m\n\u001b[1;32m     15\u001b[0m         \u001b[0;32mif\u001b[0m \u001b[0mnp\u001b[0m\u001b[0;34m.\u001b[0m\u001b[0misinf\u001b[0m\u001b[0;34m(\u001b[0m\u001b[0mx_n1\u001b[0m\u001b[0;34m)\u001b[0m\u001b[0;34m.\u001b[0m\u001b[0many\u001b[0m\u001b[0;34m(\u001b[0m\u001b[0;34m)\u001b[0m\u001b[0;34m:\u001b[0m\u001b[0;34m\u001b[0m\u001b[0;34m\u001b[0m\u001b[0m\n\u001b[0;32m---> 16\u001b[0;31m             \u001b[0;32mraise\u001b[0m \u001b[0mValueError\u001b[0m\u001b[0;34m\u001b[0m\u001b[0;34m\u001b[0m\u001b[0m\n\u001b[0m\u001b[1;32m     17\u001b[0m         \u001b[0merror\u001b[0m \u001b[0;34m=\u001b[0m \u001b[0mnp\u001b[0m\u001b[0;34m.\u001b[0m\u001b[0mlinalg\u001b[0m\u001b[0;34m.\u001b[0m\u001b[0mnorm\u001b[0m\u001b[0;34m(\u001b[0m\u001b[0mx_n1\u001b[0m \u001b[0;34m-\u001b[0m \u001b[0mx_n\u001b[0m\u001b[0;34m,\u001b[0m \u001b[0mord\u001b[0m\u001b[0;34m=\u001b[0m\u001b[0;36m2\u001b[0m\u001b[0;34m)\u001b[0m \u001b[0;34m/\u001b[0m \u001b[0mnp\u001b[0m\u001b[0;34m.\u001b[0m\u001b[0mlinalg\u001b[0m\u001b[0;34m.\u001b[0m\u001b[0mnorm\u001b[0m\u001b[0;34m(\u001b[0m\u001b[0mx_n\u001b[0m\u001b[0;34m,\u001b[0m \u001b[0mord\u001b[0m\u001b[0;34m=\u001b[0m\u001b[0;36m2\u001b[0m\u001b[0;34m)\u001b[0m\u001b[0;34m\u001b[0m\u001b[0;34m\u001b[0m\u001b[0m\n\u001b[1;32m     18\u001b[0m         \u001b[0;32mif\u001b[0m \u001b[0merror\u001b[0m \u001b[0;34m<\u001b[0m \u001b[0meps\u001b[0m \u001b[0;34m:\u001b[0m\u001b[0;34m\u001b[0m\u001b[0;34m\u001b[0m\u001b[0m\n",
      "\u001b[0;31mValueError\u001b[0m: "
     ]
    }
   ],
   "source": [
    "golden_section_search(for_back, x, beta_range=[-10,-1], tol=1e-8, it_max=1000)"
   ]
  },
  {
   "cell_type": "code",
   "execution_count": 14,
   "metadata": {},
   "outputs": [
    {
     "name": "stderr",
     "output_type": "stream",
     "text": [
      "/anaconda3/lib/python3.6/site-packages/ipykernel_launcher.py:18: RuntimeWarning: divide by zero encountered in double_scalars\n",
      "/anaconda3/lib/python3.6/site-packages/ipykernel_launcher.py:6: RuntimeWarning: overflow encountered in exp\n",
      "  \n",
      "/anaconda3/lib/python3.6/site-packages/ipykernel_launcher.py:6: RuntimeWarning: invalid value encountered in multiply\n",
      "  \n",
      "/anaconda3/lib/python3.6/site-packages/ipykernel_launcher.py:12: RuntimeWarning: invalid value encountered in matmul\n",
      "  if sys.path[0] == '':\n",
      "/anaconda3/lib/python3.6/site-packages/ipykernel_launcher.py:15: RuntimeWarning: invalid value encountered in subtract\n",
      "  from ipykernel import kernelapp as app\n"
     ]
    },
    {
     "ename": "ValueError",
     "evalue": "",
     "output_type": "error",
     "traceback": [
      "\u001b[0;31m---------------------------------------------------------------------------\u001b[0m",
      "\u001b[0;31mValueError\u001b[0m                                Traceback (most recent call last)",
      "\u001b[0;32m<ipython-input-14-033cd3b5dcbc>\u001b[0m in \u001b[0;36m<module>\u001b[0;34m\u001b[0m\n\u001b[0;32m----> 1\u001b[0;31m \u001b[0mgolden_section_search\u001b[0m\u001b[0;34m(\u001b[0m\u001b[0mdoug_rach\u001b[0m\u001b[0;34m,\u001b[0m \u001b[0mx\u001b[0m\u001b[0;34m,\u001b[0m \u001b[0mbeta_range\u001b[0m\u001b[0;34m=\u001b[0m\u001b[0;34m[\u001b[0m\u001b[0;34m-\u001b[0m\u001b[0;36m10\u001b[0m\u001b[0;34m,\u001b[0m\u001b[0;34m-\u001b[0m\u001b[0;36m1\u001b[0m\u001b[0;34m]\u001b[0m\u001b[0;34m,\u001b[0m \u001b[0mtol\u001b[0m\u001b[0;34m=\u001b[0m\u001b[0;36m1e-8\u001b[0m\u001b[0;34m,\u001b[0m \u001b[0mit_max\u001b[0m\u001b[0;34m=\u001b[0m\u001b[0;36m1000\u001b[0m\u001b[0;34m)\u001b[0m\u001b[0;34m\u001b[0m\u001b[0;34m\u001b[0m\u001b[0m\n\u001b[0m",
      "\u001b[0;32m<ipython-input-12-194cf936ead3>\u001b[0m in \u001b[0;36mgolden_section_search\u001b[0;34m(function, x, beta_range, tol, it_max)\u001b[0m\n\u001b[1;32m     17\u001b[0m         \u001b[0merror\u001b[0m\u001b[0;34m.\u001b[0m\u001b[0mappend\u001b[0m\u001b[0;34m(\u001b[0m\u001b[0mrec_error1\u001b[0m\u001b[0;34m)\u001b[0m\u001b[0;34m\u001b[0m\u001b[0;34m\u001b[0m\u001b[0m\n\u001b[1;32m     18\u001b[0m \u001b[0;34m\u001b[0m\u001b[0m\n\u001b[0;32m---> 19\u001b[0;31m         \u001b[0mx_rec_2\u001b[0m\u001b[0;34m,\u001b[0m \u001b[0m_\u001b[0m \u001b[0;34m=\u001b[0m \u001b[0mfunction\u001b[0m\u001b[0;34m(\u001b[0m\u001b[0;36m10\u001b[0m\u001b[0;34m**\u001b[0m\u001b[0mbeta2\u001b[0m\u001b[0;34m)\u001b[0m\u001b[0;34m\u001b[0m\u001b[0;34m\u001b[0m\u001b[0m\n\u001b[0m\u001b[1;32m     20\u001b[0m         \u001b[0mrec_error2\u001b[0m \u001b[0;34m=\u001b[0m \u001b[0mnp\u001b[0m\u001b[0;34m.\u001b[0m\u001b[0mlinalg\u001b[0m\u001b[0;34m.\u001b[0m\u001b[0mnorm\u001b[0m\u001b[0;34m(\u001b[0m\u001b[0mx\u001b[0m\u001b[0;34m-\u001b[0m\u001b[0mx_rec_2\u001b[0m\u001b[0;34m,\u001b[0m \u001b[0mord\u001b[0m\u001b[0;34m=\u001b[0m\u001b[0;36m2\u001b[0m\u001b[0;34m)\u001b[0m\u001b[0;34m/\u001b[0m\u001b[0mnp\u001b[0m\u001b[0;34m.\u001b[0m\u001b[0mlinalg\u001b[0m\u001b[0;34m.\u001b[0m\u001b[0mnorm\u001b[0m\u001b[0;34m(\u001b[0m\u001b[0mx\u001b[0m\u001b[0;34m,\u001b[0m \u001b[0mord\u001b[0m\u001b[0;34m=\u001b[0m\u001b[0;36m2\u001b[0m\u001b[0;34m)\u001b[0m\u001b[0;34m\u001b[0m\u001b[0;34m\u001b[0m\u001b[0m\n\u001b[1;32m     21\u001b[0m         \u001b[0mbetas\u001b[0m\u001b[0;34m.\u001b[0m\u001b[0mappend\u001b[0m\u001b[0;34m(\u001b[0m\u001b[0;36m10\u001b[0m\u001b[0;34m**\u001b[0m\u001b[0mbeta2\u001b[0m\u001b[0;34m)\u001b[0m\u001b[0;34m\u001b[0m\u001b[0;34m\u001b[0m\u001b[0m\n",
      "\u001b[0;32m<ipython-input-11-0f8ae1d33772>\u001b[0m in \u001b[0;36mdoug_rach\u001b[0;34m(beta, eps, max_iter)\u001b[0m\n\u001b[1;32m     15\u001b[0m         \u001b[0mx_n1\u001b[0m \u001b[0;34m=\u001b[0m \u001b[0mx_n\u001b[0m \u001b[0;34m+\u001b[0m \u001b[0mlbda\u001b[0m \u001b[0;34m*\u001b[0m \u001b[0;34m(\u001b[0m\u001b[0mz_n\u001b[0m \u001b[0;34m-\u001b[0m \u001b[0my_n\u001b[0m\u001b[0;34m)\u001b[0m\u001b[0;34m\u001b[0m\u001b[0;34m\u001b[0m\u001b[0m\n\u001b[1;32m     16\u001b[0m         \u001b[0;32mif\u001b[0m \u001b[0mnp\u001b[0m\u001b[0;34m.\u001b[0m\u001b[0misinf\u001b[0m\u001b[0;34m(\u001b[0m\u001b[0mx_n1\u001b[0m\u001b[0;34m)\u001b[0m\u001b[0;34m.\u001b[0m\u001b[0many\u001b[0m\u001b[0;34m(\u001b[0m\u001b[0;34m)\u001b[0m\u001b[0;34m:\u001b[0m\u001b[0;34m\u001b[0m\u001b[0;34m\u001b[0m\u001b[0m\n\u001b[0;32m---> 17\u001b[0;31m             \u001b[0;32mraise\u001b[0m \u001b[0mValueError\u001b[0m\u001b[0;34m\u001b[0m\u001b[0;34m\u001b[0m\u001b[0m\n\u001b[0m\u001b[1;32m     18\u001b[0m         \u001b[0merror\u001b[0m \u001b[0;34m=\u001b[0m \u001b[0mnp\u001b[0m\u001b[0;34m.\u001b[0m\u001b[0mlinalg\u001b[0m\u001b[0;34m.\u001b[0m\u001b[0mnorm\u001b[0m\u001b[0;34m(\u001b[0m\u001b[0mx_n1\u001b[0m \u001b[0;34m-\u001b[0m \u001b[0mx_n\u001b[0m\u001b[0;34m,\u001b[0m \u001b[0mord\u001b[0m\u001b[0;34m=\u001b[0m\u001b[0;36m2\u001b[0m\u001b[0;34m)\u001b[0m \u001b[0;34m/\u001b[0m \u001b[0mnp\u001b[0m\u001b[0;34m.\u001b[0m\u001b[0mlinalg\u001b[0m\u001b[0;34m.\u001b[0m\u001b[0mnorm\u001b[0m\u001b[0;34m(\u001b[0m\u001b[0mx_n\u001b[0m\u001b[0;34m,\u001b[0m \u001b[0mord\u001b[0m\u001b[0;34m=\u001b[0m\u001b[0;36m2\u001b[0m\u001b[0;34m)\u001b[0m\u001b[0;34m\u001b[0m\u001b[0;34m\u001b[0m\u001b[0m\n\u001b[1;32m     19\u001b[0m         \u001b[0;32mif\u001b[0m \u001b[0merror\u001b[0m \u001b[0;34m<\u001b[0m \u001b[0meps\u001b[0m \u001b[0;34m:\u001b[0m\u001b[0;34m\u001b[0m\u001b[0;34m\u001b[0m\u001b[0m\n",
      "\u001b[0;31mValueError\u001b[0m: "
     ]
    }
   ],
   "source": [
    "golden_section_search(doug_rach, x, beta_range=[-10,-1], tol=1e-8, it_max=1000)"
   ]
  },
  {
   "cell_type": "markdown",
   "metadata": {},
   "source": [
    "### Question 7"
   ]
  },
  {
   "cell_type": "markdown",
   "metadata": {},
   "source": [
    "Just comment visually the obtained curve with the ones from the previous TP."
   ]
  },
  {
   "cell_type": "markdown",
   "metadata": {},
   "source": [
    "### Question 8"
   ]
  },
  {
   "cell_type": "code",
   "execution_count": null,
   "metadata": {},
   "outputs": [],
   "source": []
  }
 ],
 "metadata": {
  "kernelspec": {
   "display_name": "Python 3",
   "language": "python",
   "name": "python3"
  },
  "language_info": {
   "codemirror_mode": {
    "name": "ipython",
    "version": 3
   },
   "file_extension": ".py",
   "mimetype": "text/x-python",
   "name": "python",
   "nbconvert_exporter": "python",
   "pygments_lexer": "ipython3",
   "version": "3.6.9"
  }
 },
 "nbformat": 4,
 "nbformat_minor": 2
}
